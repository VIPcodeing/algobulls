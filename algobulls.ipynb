{
 "cells": [
  {
   "cell_type": "code",
   "execution_count": 1,
   "id": "e0f90c5f",
   "metadata": {},
   "outputs": [
    {
     "name": "stdout",
     "output_type": "stream",
     "text": [
      "               timestamp     signal\n",
      "0    2023-06-13 19:45:00        NaN\n",
      "1    2023-06-13 19:30:00  NO_SIGNAL\n",
      "2    2023-06-13 19:15:00  NO_SIGNAL\n",
      "3    2023-06-13 19:00:00  NO_SIGNAL\n",
      "4    2023-06-13 18:45:00  NO_SIGNAL\n",
      "...                  ...        ...\n",
      "1309 2023-05-15 05:00:00  NO_SIGNAL\n",
      "1310 2023-05-15 04:45:00  NO_SIGNAL\n",
      "1311 2023-05-15 04:30:00  NO_SIGNAL\n",
      "1312 2023-05-15 04:15:00        BUY\n",
      "1313 2023-05-15 04:00:00  NO_SIGNAL\n",
      "\n",
      "[1314 rows x 2 columns]\n"
     ]
    }
   ],
   "source": [
    "import pandas as pd\n",
    "import requests\n",
    "import csv\n",
    "import numpy as np\n",
    "\n",
    "class IntradayDataFetcher:\n",
    "    def __init__(self):\n",
    "        self.data = {}\n",
    "\n",
    "    def fetch_intraday_data(self, script):\n",
    "        CSV_URL = 'https://www.alphavantage.co/query?function=TIME_SERIES_INTRADAY_EXTENDED&symbol='+script+'&interval=15min&slice=year1month1&apikey=TFANB8QLXP6NDVRB'\n",
    "\n",
    "        with requests.Session() as s:\n",
    "            download = s.get(CSV_URL)\n",
    "            decoded_content = download.content.decode('utf-8')\n",
    "            cr = csv.reader(decoded_content.splitlines(), delimiter=',')\n",
    "            my_list = list(cr)\n",
    "            self.data[script] = my_list[1:]  # Exclude header row\n",
    "\n",
    "    def convert_intraday_data(self, script):\n",
    "        if script in self.data:\n",
    "            intraday_data = self.data[script]\n",
    "            df = pd.DataFrame(intraday_data, columns=['timestamp', 'open', 'high', 'low', 'close', 'volume'])\n",
    "            df['timestamp'] = pd.to_datetime(df['timestamp'])\n",
    "            df[['open', 'high', 'low', 'close', 'volume']] = df[['open', 'high', 'low', 'close', 'volume']].astype(float)\n",
    "            return df\n",
    "        else:\n",
    "            print(f\"No intraday data found for script: {script}\")\n",
    "\n",
    "    def __getitem__(self, key):\n",
    "        return self.data[key]\n",
    "\n",
    "    def __setitem__(self, key, value):\n",
    "        self.data[key] = value\n",
    "\n",
    "    def __contains__(self, key):\n",
    "        return key in self.data\n",
    "\n",
    "\n",
    "def indicator1(df, timeperiod):\n",
    "    indicator_values = df['close'].rolling(window=timeperiod).mean()\n",
    "    indicator_df = pd.DataFrame({'timestamp': df['timestamp'], 'indicator': indicator_values})\n",
    "    return indicator_df\n",
    "\n",
    "\n",
    "class Strategy:\n",
    "    def __init__(self):\n",
    "        self.data_fetcher = IntradayDataFetcher()\n",
    "\n",
    "    def generate_signals(self, script):\n",
    "        self.data_fetcher.fetch_intraday_data(script)\n",
    "        df = self.data_fetcher.convert_intraday_data(script)\n",
    "        indicator_data = indicator1(df, timeperiod=5)\n",
    "        \n",
    "        signals = pd.DataFrame({'timestamp': df['timestamp'], 'signal': np.nan})\n",
    "\n",
    "        for i in range(1, len(df)):\n",
    "            if indicator_data['indicator'].iloc[i] > df['close'].iloc[i]:\n",
    "                if indicator_data['indicator'].iloc[i-1] <= df['close'].iloc[i-1]:\n",
    "                    signals.loc[i, 'signal'] = 'BUY'\n",
    "                else:\n",
    "                    signals.loc[i, 'signal'] = 'NO_SIGNAL'\n",
    "            elif indicator_data['indicator'].iloc[i] < df['close'].iloc[i]:\n",
    "                if indicator_data['indicator'].iloc[i-1] >= df['close'].iloc[i-1]:\n",
    "                    signals.loc[i, 'signal'] = 'SELL'\n",
    "                else:\n",
    "                    signals.loc[i, 'signal'] = 'NO_SIGNAL'\n",
    "            else:\n",
    "                signals.loc[i, 'signal'] = 'NO_SIGNAL'\n",
    "\n",
    "        return signals\n",
    "\n",
    "\n",
    "# Usage example:\n",
    "strategy = Strategy()\n",
    "script = 'GOOGL'\n",
    "signals = strategy.generate_signals(script)\n",
    "print(signals)\n"
   ]
  },
  {
   "cell_type": "code",
   "execution_count": 2,
   "id": "3942d9f5",
   "metadata": {},
   "outputs": [
    {
     "name": "stdout",
     "output_type": "stream",
     "text": [
      "               timestamp signal\n",
      "5    2023-06-13 18:30:00    BUY\n",
      "8    2023-06-13 17:45:00   SELL\n",
      "10   2023-06-13 17:15:00    BUY\n",
      "15   2023-06-13 16:00:00   SELL\n",
      "17   2023-06-13 15:30:00    BUY\n",
      "...                  ...    ...\n",
      "1292 2023-05-15 09:15:00    BUY\n",
      "1296 2023-05-15 08:15:00   SELL\n",
      "1302 2023-05-15 06:45:00    BUY\n",
      "1306 2023-05-15 05:45:00   SELL\n",
      "1312 2023-05-15 04:15:00    BUY\n",
      "\n",
      "[384 rows x 2 columns]\n"
     ]
    }
   ],
   "source": [
    "filtered_signals = signals[signals['signal'].isin(['BUY', 'SELL'])]\n",
    "print(filtered_signals)"
   ]
  },
  {
   "cell_type": "code",
   "execution_count": null,
   "id": "166e1cde",
   "metadata": {},
   "outputs": [],
   "source": []
  }
 ],
 "metadata": {
  "kernelspec": {
   "display_name": "Python 3 (ipykernel)",
   "language": "python",
   "name": "python3"
  },
  "language_info": {
   "codemirror_mode": {
    "name": "ipython",
    "version": 3
   },
   "file_extension": ".py",
   "mimetype": "text/x-python",
   "name": "python",
   "nbconvert_exporter": "python",
   "pygments_lexer": "ipython3",
   "version": "3.9.12"
  }
 },
 "nbformat": 4,
 "nbformat_minor": 5
}
